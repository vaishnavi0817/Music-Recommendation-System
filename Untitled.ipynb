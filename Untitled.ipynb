{
 "cells": [
  {
   "cell_type": "code",
   "execution_count": 1,
   "id": "89cbb7cd-3754-4dde-a10d-570502b3dd18",
   "metadata": {},
   "outputs": [],
   "source": [
    "import numpy as np\n",
    "import pandas as pd"
   ]
  },
  {
   "cell_type": "code",
   "execution_count": 2,
   "id": "b4b80be9-ba66-4ed5-8409-758d0cdfcbcd",
   "metadata": {},
   "outputs": [],
   "source": [
    "from typing import List, Dict\n"
   ]
  },
  {
   "cell_type": "code",
   "execution_count": 3,
   "id": "da6fcb66-8803-460b-842d-e8b96af084bb",
   "metadata": {},
   "outputs": [],
   "source": [
    "from sklearn.feature_extraction.text import TfidfVectorizer\n",
    "from sklearn.metrics.pairwise import cosine_similarity\n"
   ]
  },
  {
   "cell_type": "code",
   "execution_count": 4,
   "id": "0dabeab2-cee2-40d8-bd40-dcf3360fdeda",
   "metadata": {},
   "outputs": [],
   "source": [
    "songs = pd.read_csv('songdata.csv')"
   ]
  },
  {
   "cell_type": "code",
   "execution_count": 5,
   "id": "0b059443-af2e-4b8d-9db5-899dc3943d51",
   "metadata": {},
   "outputs": [
    {
     "data": {
      "text/html": [
       "<div>\n",
       "<style scoped>\n",
       "    .dataframe tbody tr th:only-of-type {\n",
       "        vertical-align: middle;\n",
       "    }\n",
       "\n",
       "    .dataframe tbody tr th {\n",
       "        vertical-align: top;\n",
       "    }\n",
       "\n",
       "    .dataframe thead th {\n",
       "        text-align: right;\n",
       "    }\n",
       "</style>\n",
       "<table border=\"1\" class=\"dataframe\">\n",
       "  <thead>\n",
       "    <tr style=\"text-align: right;\">\n",
       "      <th></th>\n",
       "      <th>artist</th>\n",
       "      <th>song</th>\n",
       "      <th>link</th>\n",
       "      <th>text</th>\n",
       "    </tr>\n",
       "  </thead>\n",
       "  <tbody>\n",
       "    <tr>\n",
       "      <th>0</th>\n",
       "      <td>ABBA</td>\n",
       "      <td>Ahe's My Kind Of Girl</td>\n",
       "      <td>/a/abba/ahes+my+kind+of+girl_20598417.html</td>\n",
       "      <td>Look at her face, it's a wonderful face  \\nAnd...</td>\n",
       "    </tr>\n",
       "    <tr>\n",
       "      <th>1</th>\n",
       "      <td>ABBA</td>\n",
       "      <td>Andante, Andante</td>\n",
       "      <td>/a/abba/andante+andante_20002708.html</td>\n",
       "      <td>Take it easy with me, please  \\nTouch me gentl...</td>\n",
       "    </tr>\n",
       "    <tr>\n",
       "      <th>2</th>\n",
       "      <td>ABBA</td>\n",
       "      <td>As Good As New</td>\n",
       "      <td>/a/abba/as+good+as+new_20003033.html</td>\n",
       "      <td>I'll never know why I had to go  \\nWhy I had t...</td>\n",
       "    </tr>\n",
       "    <tr>\n",
       "      <th>3</th>\n",
       "      <td>ABBA</td>\n",
       "      <td>Bang</td>\n",
       "      <td>/a/abba/bang_20598415.html</td>\n",
       "      <td>Making somebody happy is a question of give an...</td>\n",
       "    </tr>\n",
       "    <tr>\n",
       "      <th>4</th>\n",
       "      <td>ABBA</td>\n",
       "      <td>Bang-A-Boomerang</td>\n",
       "      <td>/a/abba/bang+a+boomerang_20002668.html</td>\n",
       "      <td>Making somebody happy is a question of give an...</td>\n",
       "    </tr>\n",
       "  </tbody>\n",
       "</table>\n",
       "</div>"
      ],
      "text/plain": [
       "  artist                   song                                        link  \\\n",
       "0   ABBA  Ahe's My Kind Of Girl  /a/abba/ahes+my+kind+of+girl_20598417.html   \n",
       "1   ABBA       Andante, Andante       /a/abba/andante+andante_20002708.html   \n",
       "2   ABBA         As Good As New        /a/abba/as+good+as+new_20003033.html   \n",
       "3   ABBA                   Bang                  /a/abba/bang_20598415.html   \n",
       "4   ABBA       Bang-A-Boomerang      /a/abba/bang+a+boomerang_20002668.html   \n",
       "\n",
       "                                                text  \n",
       "0  Look at her face, it's a wonderful face  \\nAnd...  \n",
       "1  Take it easy with me, please  \\nTouch me gentl...  \n",
       "2  I'll never know why I had to go  \\nWhy I had t...  \n",
       "3  Making somebody happy is a question of give an...  \n",
       "4  Making somebody happy is a question of give an...  "
      ]
     },
     "execution_count": 5,
     "metadata": {},
     "output_type": "execute_result"
    }
   ],
   "source": [
    "songs.head()\n"
   ]
  },
  {
   "cell_type": "code",
   "execution_count": 6,
   "id": "297a84b1-522c-4da1-a610-c890d29680e5",
   "metadata": {},
   "outputs": [],
   "source": [
    "songs = songs.sample(n=5000).drop('link', axis=1).reset_index(drop=True)\n"
   ]
  },
  {
   "cell_type": "code",
   "execution_count": 7,
   "id": "b9dc93ff-9825-45cd-ae44-3d88a2b7b500",
   "metadata": {},
   "outputs": [],
   "source": [
    "songs['text'] = songs['text'].str.replace(r'\\n', '')\n"
   ]
  },
  {
   "cell_type": "code",
   "execution_count": 8,
   "id": "be8de5aa-c8da-460a-9794-86d5de580677",
   "metadata": {},
   "outputs": [],
   "source": [
    "tfidf = TfidfVectorizer(analyzer='word', stop_words='english')"
   ]
  },
  {
   "cell_type": "code",
   "execution_count": 9,
   "id": "f329f4e0-f6ab-4fe3-ba44-02aa685a45cd",
   "metadata": {},
   "outputs": [],
   "source": [
    "lyrics_matrix = tfidf.fit_transform(songs['text'])"
   ]
  },
  {
   "cell_type": "code",
   "execution_count": 10,
   "id": "9aa5ee96-a5e1-4adb-a593-87abe099fc42",
   "metadata": {},
   "outputs": [],
   "source": [
    "cosine_similarities = cosine_similarity(lyrics_matrix) "
   ]
  },
  {
   "cell_type": "code",
   "execution_count": 11,
   "id": "b0bdc927-0c21-464a-8537-681fe19ef85c",
   "metadata": {},
   "outputs": [],
   "source": [
    "similarities = {}"
   ]
  },
  {
   "cell_type": "code",
   "execution_count": 12,
   "id": "ad2eeb5e-a860-4dc3-b6e5-cf5cdac69917",
   "metadata": {},
   "outputs": [],
   "source": [
    "for i in range(len(cosine_similarities)):\n",
    "    # Now we'll sort each element in cosine_similarities and get the indexes of the songs. \n",
    "    similar_indices = cosine_similarities[i].argsort()[:-50:-1] \n",
    "    # After that, we'll store in similarities each name of the 50 most similar songs.\n",
    "    # Except the first one that is the same song.\n",
    "    similarities[songs['song'].iloc[i]] = [(cosine_similarities[i][x], songs['song'][x], songs['artist'][x]) for x in similar_indices][1:]"
   ]
  },
  {
   "cell_type": "code",
   "execution_count": 13,
   "id": "55c8d983-1720-4b5a-bc2c-3e0eccf00e68",
   "metadata": {},
   "outputs": [],
   "source": [
    "class ContentBasedRecommender:\n",
    "    def __init__(self, matrix):\n",
    "        self.matrix_similar = matrix\n",
    "\n",
    "    def _print_message(self, song, recom_song):\n",
    "        rec_items = len(recom_song)\n",
    "        \n",
    "        print(f'The {rec_items} recommended songs for {song} are:')\n",
    "        for i in range(rec_items):\n",
    "            print(f\"Number {i+1}:\")\n",
    "            print(f\"{recom_song[i][1]} by {recom_song[i][2]} with {round(recom_song[i][0], 3)} similarity score\") \n",
    "            print(\"--------------------\")\n",
    "        \n",
    "    def recommend(self, recommendation):\n",
    "        # Get song to find recommendations for\n",
    "        song = recommendation['song']\n",
    "        # Get number of songs to recommend\n",
    "        number_songs = recommendation['number_songs']\n",
    "        # Get the number of songs most similars from matrix similarities\n",
    "        recom_song = self.matrix_similar[song][:number_songs]\n",
    "        # print each item\n",
    "        self._print_message(song=song, recom_song=recom_song)"
   ]
  },
  {
   "cell_type": "code",
   "execution_count": 14,
   "id": "d48072a7-2d3e-429a-8f21-da6cf74165bb",
   "metadata": {},
   "outputs": [],
   "source": [
    "recommedations = ContentBasedRecommender(similarities)"
   ]
  },
  {
   "cell_type": "code",
   "execution_count": 15,
   "id": "c1a9e80e-3ceb-4b5d-90ac-6945b1a32a60",
   "metadata": {},
   "outputs": [],
   "source": [
    "recommendation = {\n",
    "    \"song\": songs['song'].iloc[10],\n",
    "    \"number_songs\": 4 \n",
    "}"
   ]
  },
  {
   "cell_type": "code",
   "execution_count": 16,
   "id": "55ddcf9a-c138-4ede-ad23-cee29c3af548",
   "metadata": {},
   "outputs": [
    {
     "name": "stdout",
     "output_type": "stream",
     "text": [
      "The 4 recommended songs for Strap On That Jammy Pac are:\n",
      "Number 1:\n",
      "Beacon Light by Ween with 0.423 similarity score\n",
      "--------------------\n",
      "Number 2:\n",
      "8 Mile Freestyle Pt.Iii Vs by Eminem with 0.311 similarity score\n",
      "--------------------\n",
      "Number 3:\n",
      "1970 Somethin' by Notorious B.I.G. with 0.078 similarity score\n",
      "--------------------\n",
      "Number 4:\n",
      "These City Streets by Freestyle with 0.074 similarity score\n",
      "--------------------\n"
     ]
    }
   ],
   "source": [
    "recommedations.recommend(recommendation)"
   ]
  },
  {
   "cell_type": "code",
   "execution_count": 17,
   "id": "12804578-cfd8-4a1f-983b-7177ac4c31fd",
   "metadata": {},
   "outputs": [],
   "source": [
    "recommendation2 = {\n",
    "    \"song\": songs['song'].iloc[120],\n",
    "    \"number_songs\": 4 \n",
    "}"
   ]
  },
  {
   "cell_type": "code",
   "execution_count": 18,
   "id": "267f4267-01e7-4a5a-89e2-abdc6eb686f1",
   "metadata": {},
   "outputs": [
    {
     "name": "stdout",
     "output_type": "stream",
     "text": [
      "The 4 recommended songs for Country Woman are:\n",
      "Number 1:\n",
      "Women Seem by John Mellencamp with 0.546 similarity score\n",
      "--------------------\n",
      "Number 2:\n",
      "Only Women Bleed by Tori Amos with 0.454 similarity score\n",
      "--------------------\n",
      "Number 3:\n",
      "Heart Of The Country by Paul McCartney with 0.37 similarity score\n",
      "--------------------\n",
      "Number 4:\n",
      "Country Bumpkin by Conway Twitty with 0.294 similarity score\n",
      "--------------------\n"
     ]
    }
   ],
   "source": [
    "recommedations.recommend(recommendation2)"
   ]
  },
  {
   "cell_type": "code",
   "execution_count": null,
   "id": "0cadb2dc-749d-4b03-b98f-7f7efe21c55a",
   "metadata": {},
   "outputs": [],
   "source": []
  }
 ],
 "metadata": {
  "kernelspec": {
   "display_name": "Python 3 (ipykernel)",
   "language": "python",
   "name": "python3"
  },
  "language_info": {
   "codemirror_mode": {
    "name": "ipython",
    "version": 3
   },
   "file_extension": ".py",
   "mimetype": "text/x-python",
   "name": "python",
   "nbconvert_exporter": "python",
   "pygments_lexer": "ipython3",
   "version": "3.12.4"
  }
 },
 "nbformat": 4,
 "nbformat_minor": 5
}
